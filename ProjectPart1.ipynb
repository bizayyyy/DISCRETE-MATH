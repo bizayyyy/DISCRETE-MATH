{
  "nbformat": 4,
  "nbformat_minor": 0,
  "metadata": {
    "colab": {
      "name": "Untitled0.ipynb",
      "provenance": [],
      "include_colab_link": true
    },
    "kernelspec": {
      "name": "python3",
      "display_name": "Python 3"
    }
  },
  "cells": [
    {
      "cell_type": "markdown",
      "metadata": {
        "id": "view-in-github",
        "colab_type": "text"
      },
      "source": [
        "<a href=\"https://colab.research.google.com/github/bizayyyy/DISCRETE-MATH/blob/main/ProjectPart1.ipynb\" target=\"_parent\"><img src=\"https://colab.research.google.com/assets/colab-badge.svg\" alt=\"Open In Colab\"/></a>"
      ]
    },
    {
      "cell_type": "markdown",
      "metadata": {
        "id": "YCJaepmmfKrS"
      },
      "source": [
        "# Project Part # : CPSMA 3133 Discrete Mathematics \n",
        "\n",
        "## Sets, Relations and Functions\n",
        "\n",
        "### Dr. Jacob's Incorrect Submission\n",
        "\n",
        "![Return To GitHub Repo](https://nurfnick.github.io/Discrete_Math/JuliaSetECUColors.jpg)\n",
        "\n",
        "\n"
      ]
    },
    {
      "cell_type": "markdown",
      "metadata": {
        "id": "Xs_Pvtua1Nnt"
      },
      "source": [
        "## 1 Sets"
      ]
    },
    {
      "cell_type": "markdown",
      "metadata": {
        "id": "2z6U1aB_fQDM"
      },
      "source": [
        "I am going to have a starwars theme to my assignment.\n",
        "\n",
        "Set $A$ will be characters from the original three movies.  Set $B$ will be characters from the prequels and set $C$ from the sequels.\n",
        "\n",
        "![StarWars](https://static.wikia.nocookie.net/starwars/images/c/cc/Star-wars-logo-new-tall.jpg/revision/latest/scale-to-width-down/250?cb=20190313021755)\n"
      ]
    },
    {
      "cell_type": "code",
      "metadata": {
        "id": "rU_BgC_kfH7g"
      },
      "source": [
        "A = ['Luke', 'Han', 'C3PO', 'Leia', 'R2D2', 'Darth Vader', 'Obi-Wan']\n",
        "B = ['Anakin', 'Obi-Wan', 'Padme', 'C3PO', 'R2D2', 'Jar-Jar']\n",
        "C = ['Rey', 'Finn', 'R2D2', 'C3PO', 'BB8', 'Poe']\n",
        "\n",
        "#Clearly I just included a few characters.  I was cheating and looking at https://github.com/nurfnick/Data_Sets_For_Stats/blob/master/CuratedDataSets/starwars1.csv"
      ],
      "execution_count": null,
      "outputs": []
    },
    {
      "cell_type": "markdown",
      "metadata": {
        "id": "Iggon6VK1Vxo"
      },
      "source": [
        "My universal set $U$ would be all the characters in the starwars universe.  My favorite droid is Chopper.\n",
        "\n",
        "![Chopper](data:image/jpeg;base64,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)\n"
      ]
    },
    {
      "cell_type": "markdown",
      "metadata": {
        "id": "W-oHYKU19sjl"
      },
      "source": [
        "I am going to do a union and intersection with *for* loops."
      ]
    },
    {
      "cell_type": "code",
      "metadata": {
        "colab": {
          "base_uri": "https://localhost:8080/"
        },
        "id": "pWsppmpY9gMw",
        "outputId": "adcf9b91-1ff9-49db-bc7c-1208796a7690"
      },
      "source": [
        "AUB = []\n",
        "for character in A:\n",
        "  AUB.append(character) #Add all characters from A\n",
        "for character in B:\n",
        "  AUB.append(character) # Add all characters from B\n",
        "\n",
        "AUB = set(AUB) #change the list to a set removes duplicates and alphabetize\n",
        "\n",
        "AUB "
      ],
      "execution_count": null,
      "outputs": [
        {
          "output_type": "execute_result",
          "data": {
            "text/plain": [
              "{'Anakin',\n",
              " 'C3PO',\n",
              " 'Darth Vader',\n",
              " 'Han',\n",
              " 'Jar-Jar',\n",
              " 'Leia',\n",
              " 'Luke',\n",
              " 'Obi-Wan',\n",
              " 'Padme',\n",
              " 'R2D2'}"
            ]
          },
          "metadata": {},
          "execution_count": 2
        }
      ]
    },
    {
      "cell_type": "markdown",
      "metadata": {
        "id": "fepggJuCvS5s"
      },
      "source": [
        "I used a conditional **if** for the intersection."
      ]
    },
    {
      "cell_type": "code",
      "metadata": {
        "id": "wW5pXHmgtJ-o",
        "colab": {
          "base_uri": "https://localhost:8080/"
        },
        "outputId": "edcade76-cbf7-4c8d-a5f6-e21a2e434b5e"
      },
      "source": [
        "ACapB = []\n",
        "for character in A:\n",
        "  if character in B:\n",
        "    ACapB.append(character)\n",
        "\n",
        "ACapB"
      ],
      "execution_count": null,
      "outputs": [
        {
          "output_type": "execute_result",
          "data": {
            "text/plain": [
              "['C3PO', 'R2D2', 'Obi-Wan']"
            ]
          },
          "metadata": {},
          "execution_count": 3
        }
      ]
    },
    {
      "cell_type": "markdown",
      "metadata": {
        "id": "2rzub-TYt7EE"
      },
      "source": [
        "If I were to make a Universal set $U$, I may do so algorithmically!"
      ]
    },
    {
      "cell_type": "code",
      "metadata": {
        "id": "XeLl2OC6uGea",
        "colab": {
          "base_uri": "https://localhost:8080/"
        },
        "outputId": "19dacbdd-4f74-45ce-8ddc-eb6d56201e7b"
      },
      "source": [
        "SetofSets = [A,B,C]\n",
        "U = []\n",
        "for sett in SetofSets:\n",
        "  for character in sett:\n",
        "    U.append(character)\n",
        "\n",
        "set(U)"
      ],
      "execution_count": null,
      "outputs": [
        {
          "output_type": "execute_result",
          "data": {
            "text/plain": [
              "{'Anakin',\n",
              " 'BB8',\n",
              " 'C3PO',\n",
              " 'Darth Vader',\n",
              " 'Finn',\n",
              " 'Han',\n",
              " 'Jar-Jar',\n",
              " 'Leia',\n",
              " 'Luke',\n",
              " 'Obi-Wan',\n",
              " 'Padme',\n",
              " 'Poe',\n",
              " 'R2D2',\n",
              " 'Rey'}"
            ]
          },
          "metadata": {},
          "execution_count": 4
        }
      ]
    },
    {
      "cell_type": "code",
      "metadata": {
        "id": "jJunB-FKuwNC"
      },
      "source": [
        "D = ['Chopper', 'Chewbacca', 'Darth Maul', 'General Tarkin', 'Ventress']\n",
        "\n",
        "for character in D:\n",
        "  U.append(character)\n",
        "\n"
      ],
      "execution_count": null,
      "outputs": []
    },
    {
      "cell_type": "markdown",
      "metadata": {
        "id": "iktL7sDFvfOE"
      },
      "source": [
        "I'll use the **not in** for the complement."
      ]
    },
    {
      "cell_type": "code",
      "metadata": {
        "id": "i9G8k8gsvng2",
        "colab": {
          "base_uri": "https://localhost:8080/"
        },
        "outputId": "2d354bad-0eed-4c78-fe36-ed18691a5cb9"
      },
      "source": [
        "AComplement =[]\n",
        "\n",
        "for character in U:\n",
        "  if character not in A:\n",
        "    AComplement.append(character)\n",
        "\n",
        "AComplement"
      ],
      "execution_count": null,
      "outputs": [
        {
          "output_type": "execute_result",
          "data": {
            "text/plain": [
              "['Anakin',\n",
              " 'Padme',\n",
              " 'Jar-Jar',\n",
              " 'Rey',\n",
              " 'Finn',\n",
              " 'BB8',\n",
              " 'Poe',\n",
              " 'Chopper',\n",
              " 'Chewbacca',\n",
              " 'Darth Maul',\n",
              " 'General Tarkin',\n",
              " 'Ventress']"
            ]
          },
          "metadata": {},
          "execution_count": 6
        }
      ]
    },
    {
      "cell_type": "markdown",
      "metadata": {
        "id": "ATQCDgVcv92I"
      },
      "source": [
        "You should be mad at me!  I just said Chewy was not in the original series!  Also Anakin is technically in them too, just under a new identity.  How might you fix that?\n"
      ]
    },
    {
      "cell_type": "markdown",
      "metadata": {
        "id": "Mvv6ENoX35Xi"
      },
      "source": [
        "I am going to use the for loops.  This code starts with an emptyset and adds a element to it, putting that set and the empty set into the powerset. It then resets to the next element in the original set.  It puts that element into each of the previous two in the powerset and doubles the size of the powerset.  You repeat this process until you cover all the elements. "
      ]
    },
    {
      "cell_type": "code",
      "metadata": {
        "id": "nqn99nTKys3b"
      },
      "source": [
        "def DPpowerset(s):\n",
        "  powerset = [[]]\n",
        "  for i in s:\n",
        "    for sett in powerset:\n",
        "      powerset = powerset + [sett + [i]]\n",
        "  return powerset\n",
        "\n",
        "\n"
      ],
      "execution_count": null,
      "outputs": []
    },
    {
      "cell_type": "code",
      "metadata": {
        "id": "8g-p9uha2llN",
        "colab": {
          "base_uri": "https://localhost:8080/"
        },
        "outputId": "f30be0b9-9543-44e4-d541-a3d1e310af27"
      },
      "source": [
        "DPpowerset(A)"
      ],
      "execution_count": null,
      "outputs": [
        {
          "output_type": "execute_result",
          "data": {
            "text/plain": [
              "[[],\n",
              " ['Luke'],\n",
              " ['Han'],\n",
              " ['Luke', 'Han'],\n",
              " ['C3PO'],\n",
              " ['Luke', 'C3PO'],\n",
              " ['Han', 'C3PO'],\n",
              " ['Luke', 'Han', 'C3PO'],\n",
              " ['Leia'],\n",
              " ['Luke', 'Leia'],\n",
              " ['Han', 'Leia'],\n",
              " ['Luke', 'Han', 'Leia'],\n",
              " ['C3PO', 'Leia'],\n",
              " ['Luke', 'C3PO', 'Leia'],\n",
              " ['Han', 'C3PO', 'Leia'],\n",
              " ['Luke', 'Han', 'C3PO', 'Leia'],\n",
              " ['R2D2'],\n",
              " ['Luke', 'R2D2'],\n",
              " ['Han', 'R2D2'],\n",
              " ['Luke', 'Han', 'R2D2'],\n",
              " ['C3PO', 'R2D2'],\n",
              " ['Luke', 'C3PO', 'R2D2'],\n",
              " ['Han', 'C3PO', 'R2D2'],\n",
              " ['Luke', 'Han', 'C3PO', 'R2D2'],\n",
              " ['Leia', 'R2D2'],\n",
              " ['Luke', 'Leia', 'R2D2'],\n",
              " ['Han', 'Leia', 'R2D2'],\n",
              " ['Luke', 'Han', 'Leia', 'R2D2'],\n",
              " ['C3PO', 'Leia', 'R2D2'],\n",
              " ['Luke', 'C3PO', 'Leia', 'R2D2'],\n",
              " ['Han', 'C3PO', 'Leia', 'R2D2'],\n",
              " ['Luke', 'Han', 'C3PO', 'Leia', 'R2D2'],\n",
              " ['Darth Vader'],\n",
              " ['Luke', 'Darth Vader'],\n",
              " ['Han', 'Darth Vader'],\n",
              " ['Luke', 'Han', 'Darth Vader'],\n",
              " ['C3PO', 'Darth Vader'],\n",
              " ['Luke', 'C3PO', 'Darth Vader'],\n",
              " ['Han', 'C3PO', 'Darth Vader'],\n",
              " ['Luke', 'Han', 'C3PO', 'Darth Vader'],\n",
              " ['Leia', 'Darth Vader'],\n",
              " ['Luke', 'Leia', 'Darth Vader'],\n",
              " ['Han', 'Leia', 'Darth Vader'],\n",
              " ['Luke', 'Han', 'Leia', 'Darth Vader'],\n",
              " ['C3PO', 'Leia', 'Darth Vader'],\n",
              " ['Luke', 'C3PO', 'Leia', 'Darth Vader'],\n",
              " ['Han', 'C3PO', 'Leia', 'Darth Vader'],\n",
              " ['Luke', 'Han', 'C3PO', 'Leia', 'Darth Vader'],\n",
              " ['R2D2', 'Darth Vader'],\n",
              " ['Luke', 'R2D2', 'Darth Vader'],\n",
              " ['Han', 'R2D2', 'Darth Vader'],\n",
              " ['Luke', 'Han', 'R2D2', 'Darth Vader'],\n",
              " ['C3PO', 'R2D2', 'Darth Vader'],\n",
              " ['Luke', 'C3PO', 'R2D2', 'Darth Vader'],\n",
              " ['Han', 'C3PO', 'R2D2', 'Darth Vader'],\n",
              " ['Luke', 'Han', 'C3PO', 'R2D2', 'Darth Vader'],\n",
              " ['Leia', 'R2D2', 'Darth Vader'],\n",
              " ['Luke', 'Leia', 'R2D2', 'Darth Vader'],\n",
              " ['Han', 'Leia', 'R2D2', 'Darth Vader'],\n",
              " ['Luke', 'Han', 'Leia', 'R2D2', 'Darth Vader'],\n",
              " ['C3PO', 'Leia', 'R2D2', 'Darth Vader'],\n",
              " ['Luke', 'C3PO', 'Leia', 'R2D2', 'Darth Vader'],\n",
              " ['Han', 'C3PO', 'Leia', 'R2D2', 'Darth Vader'],\n",
              " ['Luke', 'Han', 'C3PO', 'Leia', 'R2D2', 'Darth Vader'],\n",
              " ['Obi-Wan'],\n",
              " ['Luke', 'Obi-Wan'],\n",
              " ['Han', 'Obi-Wan'],\n",
              " ['Luke', 'Han', 'Obi-Wan'],\n",
              " ['C3PO', 'Obi-Wan'],\n",
              " ['Luke', 'C3PO', 'Obi-Wan'],\n",
              " ['Han', 'C3PO', 'Obi-Wan'],\n",
              " ['Luke', 'Han', 'C3PO', 'Obi-Wan'],\n",
              " ['Leia', 'Obi-Wan'],\n",
              " ['Luke', 'Leia', 'Obi-Wan'],\n",
              " ['Han', 'Leia', 'Obi-Wan'],\n",
              " ['Luke', 'Han', 'Leia', 'Obi-Wan'],\n",
              " ['C3PO', 'Leia', 'Obi-Wan'],\n",
              " ['Luke', 'C3PO', 'Leia', 'Obi-Wan'],\n",
              " ['Han', 'C3PO', 'Leia', 'Obi-Wan'],\n",
              " ['Luke', 'Han', 'C3PO', 'Leia', 'Obi-Wan'],\n",
              " ['R2D2', 'Obi-Wan'],\n",
              " ['Luke', 'R2D2', 'Obi-Wan'],\n",
              " ['Han', 'R2D2', 'Obi-Wan'],\n",
              " ['Luke', 'Han', 'R2D2', 'Obi-Wan'],\n",
              " ['C3PO', 'R2D2', 'Obi-Wan'],\n",
              " ['Luke', 'C3PO', 'R2D2', 'Obi-Wan'],\n",
              " ['Han', 'C3PO', 'R2D2', 'Obi-Wan'],\n",
              " ['Luke', 'Han', 'C3PO', 'R2D2', 'Obi-Wan'],\n",
              " ['Leia', 'R2D2', 'Obi-Wan'],\n",
              " ['Luke', 'Leia', 'R2D2', 'Obi-Wan'],\n",
              " ['Han', 'Leia', 'R2D2', 'Obi-Wan'],\n",
              " ['Luke', 'Han', 'Leia', 'R2D2', 'Obi-Wan'],\n",
              " ['C3PO', 'Leia', 'R2D2', 'Obi-Wan'],\n",
              " ['Luke', 'C3PO', 'Leia', 'R2D2', 'Obi-Wan'],\n",
              " ['Han', 'C3PO', 'Leia', 'R2D2', 'Obi-Wan'],\n",
              " ['Luke', 'Han', 'C3PO', 'Leia', 'R2D2', 'Obi-Wan'],\n",
              " ['Darth Vader', 'Obi-Wan'],\n",
              " ['Luke', 'Darth Vader', 'Obi-Wan'],\n",
              " ['Han', 'Darth Vader', 'Obi-Wan'],\n",
              " ['Luke', 'Han', 'Darth Vader', 'Obi-Wan'],\n",
              " ['C3PO', 'Darth Vader', 'Obi-Wan'],\n",
              " ['Luke', 'C3PO', 'Darth Vader', 'Obi-Wan'],\n",
              " ['Han', 'C3PO', 'Darth Vader', 'Obi-Wan'],\n",
              " ['Luke', 'Han', 'C3PO', 'Darth Vader', 'Obi-Wan'],\n",
              " ['Leia', 'Darth Vader', 'Obi-Wan'],\n",
              " ['Luke', 'Leia', 'Darth Vader', 'Obi-Wan'],\n",
              " ['Han', 'Leia', 'Darth Vader', 'Obi-Wan'],\n",
              " ['Luke', 'Han', 'Leia', 'Darth Vader', 'Obi-Wan'],\n",
              " ['C3PO', 'Leia', 'Darth Vader', 'Obi-Wan'],\n",
              " ['Luke', 'C3PO', 'Leia', 'Darth Vader', 'Obi-Wan'],\n",
              " ['Han', 'C3PO', 'Leia', 'Darth Vader', 'Obi-Wan'],\n",
              " ['Luke', 'Han', 'C3PO', 'Leia', 'Darth Vader', 'Obi-Wan'],\n",
              " ['R2D2', 'Darth Vader', 'Obi-Wan'],\n",
              " ['Luke', 'R2D2', 'Darth Vader', 'Obi-Wan'],\n",
              " ['Han', 'R2D2', 'Darth Vader', 'Obi-Wan'],\n",
              " ['Luke', 'Han', 'R2D2', 'Darth Vader', 'Obi-Wan'],\n",
              " ['C3PO', 'R2D2', 'Darth Vader', 'Obi-Wan'],\n",
              " ['Luke', 'C3PO', 'R2D2', 'Darth Vader', 'Obi-Wan'],\n",
              " ['Han', 'C3PO', 'R2D2', 'Darth Vader', 'Obi-Wan'],\n",
              " ['Luke', 'Han', 'C3PO', 'R2D2', 'Darth Vader', 'Obi-Wan'],\n",
              " ['Leia', 'R2D2', 'Darth Vader', 'Obi-Wan'],\n",
              " ['Luke', 'Leia', 'R2D2', 'Darth Vader', 'Obi-Wan'],\n",
              " ['Han', 'Leia', 'R2D2', 'Darth Vader', 'Obi-Wan'],\n",
              " ['Luke', 'Han', 'Leia', 'R2D2', 'Darth Vader', 'Obi-Wan'],\n",
              " ['C3PO', 'Leia', 'R2D2', 'Darth Vader', 'Obi-Wan'],\n",
              " ['Luke', 'C3PO', 'Leia', 'R2D2', 'Darth Vader', 'Obi-Wan'],\n",
              " ['Han', 'C3PO', 'Leia', 'R2D2', 'Darth Vader', 'Obi-Wan'],\n",
              " ['Luke', 'Han', 'C3PO', 'Leia', 'R2D2', 'Darth Vader', 'Obi-Wan']]"
            ]
          },
          "metadata": {},
          "execution_count": 8
        }
      ]
    },
    {
      "cell_type": "markdown",
      "metadata": {
        "id": "SQSH-fFYwNls"
      },
      "source": [
        "Powersets I am going to do with a little bit of stackoverflow help...  This one is a little vudoo to me.  It's doing somehting with bits and the zip and yield suppresses the output until you call it.  There is always more than one way to do something!  Taken from <https://stackoverflow.com/questions/1482308/how-to-get-all-subsets-of-a-set-powerset>"
      ]
    },
    {
      "cell_type": "code",
      "metadata": {
        "id": "swqnKRoyxh7z",
        "colab": {
          "base_uri": "https://localhost:8080/"
        },
        "outputId": "7e90c6e9-834b-4f64-8bd5-12fb5af9f1c5"
      },
      "source": [
        "def powerset(s):\n",
        "    x = len(s)\n",
        "    masks = [2**i for i in range(x)]\n",
        "    for i in range(2**x):\n",
        "        yield [ss for mask, ss in zip(masks, s) if i & mask]\n",
        "\n",
        "print(list(powerset(A)))"
      ],
      "execution_count": null,
      "outputs": [
        {
          "output_type": "stream",
          "name": "stdout",
          "text": [
            "[[], ['Luke'], ['Han'], ['Luke', 'Han'], ['C3PO'], ['Luke', 'C3PO'], ['Han', 'C3PO'], ['Luke', 'Han', 'C3PO'], ['Leia'], ['Luke', 'Leia'], ['Han', 'Leia'], ['Luke', 'Han', 'Leia'], ['C3PO', 'Leia'], ['Luke', 'C3PO', 'Leia'], ['Han', 'C3PO', 'Leia'], ['Luke', 'Han', 'C3PO', 'Leia'], ['R2D2'], ['Luke', 'R2D2'], ['Han', 'R2D2'], ['Luke', 'Han', 'R2D2'], ['C3PO', 'R2D2'], ['Luke', 'C3PO', 'R2D2'], ['Han', 'C3PO', 'R2D2'], ['Luke', 'Han', 'C3PO', 'R2D2'], ['Leia', 'R2D2'], ['Luke', 'Leia', 'R2D2'], ['Han', 'Leia', 'R2D2'], ['Luke', 'Han', 'Leia', 'R2D2'], ['C3PO', 'Leia', 'R2D2'], ['Luke', 'C3PO', 'Leia', 'R2D2'], ['Han', 'C3PO', 'Leia', 'R2D2'], ['Luke', 'Han', 'C3PO', 'Leia', 'R2D2'], ['Darth Vader'], ['Luke', 'Darth Vader'], ['Han', 'Darth Vader'], ['Luke', 'Han', 'Darth Vader'], ['C3PO', 'Darth Vader'], ['Luke', 'C3PO', 'Darth Vader'], ['Han', 'C3PO', 'Darth Vader'], ['Luke', 'Han', 'C3PO', 'Darth Vader'], ['Leia', 'Darth Vader'], ['Luke', 'Leia', 'Darth Vader'], ['Han', 'Leia', 'Darth Vader'], ['Luke', 'Han', 'Leia', 'Darth Vader'], ['C3PO', 'Leia', 'Darth Vader'], ['Luke', 'C3PO', 'Leia', 'Darth Vader'], ['Han', 'C3PO', 'Leia', 'Darth Vader'], ['Luke', 'Han', 'C3PO', 'Leia', 'Darth Vader'], ['R2D2', 'Darth Vader'], ['Luke', 'R2D2', 'Darth Vader'], ['Han', 'R2D2', 'Darth Vader'], ['Luke', 'Han', 'R2D2', 'Darth Vader'], ['C3PO', 'R2D2', 'Darth Vader'], ['Luke', 'C3PO', 'R2D2', 'Darth Vader'], ['Han', 'C3PO', 'R2D2', 'Darth Vader'], ['Luke', 'Han', 'C3PO', 'R2D2', 'Darth Vader'], ['Leia', 'R2D2', 'Darth Vader'], ['Luke', 'Leia', 'R2D2', 'Darth Vader'], ['Han', 'Leia', 'R2D2', 'Darth Vader'], ['Luke', 'Han', 'Leia', 'R2D2', 'Darth Vader'], ['C3PO', 'Leia', 'R2D2', 'Darth Vader'], ['Luke', 'C3PO', 'Leia', 'R2D2', 'Darth Vader'], ['Han', 'C3PO', 'Leia', 'R2D2', 'Darth Vader'], ['Luke', 'Han', 'C3PO', 'Leia', 'R2D2', 'Darth Vader'], ['Obi-Wan'], ['Luke', 'Obi-Wan'], ['Han', 'Obi-Wan'], ['Luke', 'Han', 'Obi-Wan'], ['C3PO', 'Obi-Wan'], ['Luke', 'C3PO', 'Obi-Wan'], ['Han', 'C3PO', 'Obi-Wan'], ['Luke', 'Han', 'C3PO', 'Obi-Wan'], ['Leia', 'Obi-Wan'], ['Luke', 'Leia', 'Obi-Wan'], ['Han', 'Leia', 'Obi-Wan'], ['Luke', 'Han', 'Leia', 'Obi-Wan'], ['C3PO', 'Leia', 'Obi-Wan'], ['Luke', 'C3PO', 'Leia', 'Obi-Wan'], ['Han', 'C3PO', 'Leia', 'Obi-Wan'], ['Luke', 'Han', 'C3PO', 'Leia', 'Obi-Wan'], ['R2D2', 'Obi-Wan'], ['Luke', 'R2D2', 'Obi-Wan'], ['Han', 'R2D2', 'Obi-Wan'], ['Luke', 'Han', 'R2D2', 'Obi-Wan'], ['C3PO', 'R2D2', 'Obi-Wan'], ['Luke', 'C3PO', 'R2D2', 'Obi-Wan'], ['Han', 'C3PO', 'R2D2', 'Obi-Wan'], ['Luke', 'Han', 'C3PO', 'R2D2', 'Obi-Wan'], ['Leia', 'R2D2', 'Obi-Wan'], ['Luke', 'Leia', 'R2D2', 'Obi-Wan'], ['Han', 'Leia', 'R2D2', 'Obi-Wan'], ['Luke', 'Han', 'Leia', 'R2D2', 'Obi-Wan'], ['C3PO', 'Leia', 'R2D2', 'Obi-Wan'], ['Luke', 'C3PO', 'Leia', 'R2D2', 'Obi-Wan'], ['Han', 'C3PO', 'Leia', 'R2D2', 'Obi-Wan'], ['Luke', 'Han', 'C3PO', 'Leia', 'R2D2', 'Obi-Wan'], ['Darth Vader', 'Obi-Wan'], ['Luke', 'Darth Vader', 'Obi-Wan'], ['Han', 'Darth Vader', 'Obi-Wan'], ['Luke', 'Han', 'Darth Vader', 'Obi-Wan'], ['C3PO', 'Darth Vader', 'Obi-Wan'], ['Luke', 'C3PO', 'Darth Vader', 'Obi-Wan'], ['Han', 'C3PO', 'Darth Vader', 'Obi-Wan'], ['Luke', 'Han', 'C3PO', 'Darth Vader', 'Obi-Wan'], ['Leia', 'Darth Vader', 'Obi-Wan'], ['Luke', 'Leia', 'Darth Vader', 'Obi-Wan'], ['Han', 'Leia', 'Darth Vader', 'Obi-Wan'], ['Luke', 'Han', 'Leia', 'Darth Vader', 'Obi-Wan'], ['C3PO', 'Leia', 'Darth Vader', 'Obi-Wan'], ['Luke', 'C3PO', 'Leia', 'Darth Vader', 'Obi-Wan'], ['Han', 'C3PO', 'Leia', 'Darth Vader', 'Obi-Wan'], ['Luke', 'Han', 'C3PO', 'Leia', 'Darth Vader', 'Obi-Wan'], ['R2D2', 'Darth Vader', 'Obi-Wan'], ['Luke', 'R2D2', 'Darth Vader', 'Obi-Wan'], ['Han', 'R2D2', 'Darth Vader', 'Obi-Wan'], ['Luke', 'Han', 'R2D2', 'Darth Vader', 'Obi-Wan'], ['C3PO', 'R2D2', 'Darth Vader', 'Obi-Wan'], ['Luke', 'C3PO', 'R2D2', 'Darth Vader', 'Obi-Wan'], ['Han', 'C3PO', 'R2D2', 'Darth Vader', 'Obi-Wan'], ['Luke', 'Han', 'C3PO', 'R2D2', 'Darth Vader', 'Obi-Wan'], ['Leia', 'R2D2', 'Darth Vader', 'Obi-Wan'], ['Luke', 'Leia', 'R2D2', 'Darth Vader', 'Obi-Wan'], ['Han', 'Leia', 'R2D2', 'Darth Vader', 'Obi-Wan'], ['Luke', 'Han', 'Leia', 'R2D2', 'Darth Vader', 'Obi-Wan'], ['C3PO', 'Leia', 'R2D2', 'Darth Vader', 'Obi-Wan'], ['Luke', 'C3PO', 'Leia', 'R2D2', 'Darth Vader', 'Obi-Wan'], ['Han', 'C3PO', 'Leia', 'R2D2', 'Darth Vader', 'Obi-Wan'], ['Luke', 'Han', 'C3PO', 'Leia', 'R2D2', 'Darth Vader', 'Obi-Wan']]\n"
          ]
        }
      ]
    },
    {
      "cell_type": "markdown",
      "metadata": {
        "id": "zqwIp4U9Di75"
      },
      "source": [
        "How do you check for subsets?  My guess is there is something handy to do that built into python but I am up for an adventure today!"
      ]
    },
    {
      "cell_type": "code",
      "metadata": {
        "colab": {
          "base_uri": "https://localhost:8080/"
        },
        "id": "yXoW9P_MDigU",
        "outputId": "00f15809-fff3-4825-9050-330143e729d1"
      },
      "source": [
        "def IsASubset(A,B):\n",
        "  for a in A:\n",
        "    if a not in B:\n",
        "      return False\n",
        "  return True\n",
        "\n",
        "IsASubset(A,U)"
      ],
      "execution_count": null,
      "outputs": [
        {
          "output_type": "execute_result",
          "data": {
            "text/plain": [
              "True"
            ]
          },
          "metadata": {},
          "execution_count": 18
        }
      ]
    },
    {
      "cell_type": "markdown",
      "metadata": {
        "id": "92d2PXvfEI9v"
      },
      "source": [
        "Looks like it works!  But why...  well the only time I drop into the condition of the if statement is if a is not in B and that means it is not a subset.  Otherwise you'll just get true"
      ]
    },
    {
      "cell_type": "markdown",
      "metadata": {
        "id": "_7RoPTU_hXG1"
      },
      "source": [
        "## 2 Functions"
      ]
    },
    {
      "cell_type": "markdown",
      "metadata": {
        "id": "MMXFYCZ6hajg"
      },
      "source": [
        "Let's define a **fun**ction!\n",
        "\n",
        "$$\n",
        "f(x) = \\frac{1}{\\sqrt{2\\pi}} e^{-\\frac{x^2}2}\n",
        "$$\n",
        "\n"
      ]
    },
    {
      "cell_type": "code",
      "metadata": {
        "id": "5U5T3Fld5X0S"
      },
      "source": [
        "import math\n",
        "import numpy as np\n",
        "\n",
        "def gaussian(x):\n",
        "  return 1/math.sqrt(2*math.pi)*np.e**(-x**2/2)\n",
        "\n"
      ],
      "execution_count": null,
      "outputs": []
    },
    {
      "cell_type": "code",
      "metadata": {
        "id": "uLBv3fem18Uh",
        "colab": {
          "base_uri": "https://localhost:8080/"
        },
        "outputId": "98f3af1b-05a9-4b9e-dd4c-e84a694aa752"
      },
      "source": [
        "gaussian(0)"
      ],
      "execution_count": null,
      "outputs": [
        {
          "output_type": "execute_result",
          "data": {
            "text/plain": [
              "0.3989422804014327"
            ]
          },
          "metadata": {},
          "execution_count": 4
        }
      ]
    },
    {
      "cell_type": "code",
      "metadata": {
        "id": "j29xWwmx2EWr",
        "colab": {
          "base_uri": "https://localhost:8080/",
          "height": 284
        },
        "outputId": "b0da2562-df4e-4296-8b0f-104530334840"
      },
      "source": [
        "import matplotlib.pyplot as plt\n",
        "\n",
        "x = np.arange(-4,4,.1)\n",
        "\n",
        "plt.plot(x,gaussian(x))"
      ],
      "execution_count": null,
      "outputs": [
        {
          "output_type": "execute_result",
          "data": {
            "text/plain": [
              "[<matplotlib.lines.Line2D at 0x7f29e8e66210>]"
            ]
          },
          "metadata": {},
          "execution_count": 5
        },
        {
          "output_type": "display_data",
          "data": {
            "image/png": "[encoded data removed]",
            "text/plain": [
              "<Figure size 432x288 with 1 Axes>"
            ]
          },
          "metadata": {
            "needs_background": "light"
          }
        }
      ]
    },
    {
      "cell_type": "markdown",
      "metadata": {
        "id": "0aknI3rU2usV"
      },
      "source": [
        "My function is not bijective on the graphed domain.  Instead I will work on the interval $[0,4]$.  I'll compute the inverse by hand.\n",
        "\n",
        "$$\n",
        "y = \\frac{1}{\\sqrt{2\\pi}}e^{-\\frac{x^2}2}\n",
        "$$\n",
        "\n",
        "Swapping $x$ and $y$.\n",
        "\n",
        "$$\n",
        "x = \\frac{1}{\\sqrt{2\\pi}}e^{-\\frac{y^2}2}\n",
        "$$\n",
        "\n",
        "Now solve for $y$.\n",
        "\n",
        "$$\n",
        "\\ln\\left(\\sqrt{2\\pi}x\\right) = -\\frac{y^2}2\n",
        "$$\n",
        "$$\n",
        "y = \\sqrt{-2\\ln\\left(\\sqrt{2\\pi}x\\right)}\n",
        "$$\n",
        "\n",
        "So we define the function"
      ]
    },
    {
      "cell_type": "code",
      "metadata": {
        "id": "OQ9pb8Eb2mlc"
      },
      "source": [
        "def gaussianInverse(x):\n",
        "  return np.sqrt(-2*np.log(math.sqrt(2*math.pi)*x))"
      ],
      "execution_count": null,
      "outputs": []
    },
    {
      "cell_type": "code",
      "metadata": {
        "id": "xbY6jD8z4Tn4",
        "colab": {
          "base_uri": "https://localhost:8080/"
        },
        "outputId": "58bb860a-b887-4bd8-b740-65ad60e0d57c"
      },
      "source": [
        "gaussianInverse(gaussian(4))"
      ],
      "execution_count": null,
      "outputs": [
        {
          "output_type": "execute_result",
          "data": {
            "text/plain": [
              "4.0"
            ]
          },
          "metadata": {},
          "execution_count": 11
        }
      ]
    },
    {
      "cell_type": "code",
      "metadata": {
        "id": "bad9NzKq4ZsS",
        "colab": {
          "base_uri": "https://localhost:8080/",
          "height": 363
        },
        "outputId": "6cfeb0d5-e08a-4e55-fc2d-3fae0f0d97dd"
      },
      "source": [
        "import matplotlib.pyplot as plt\n",
        "\n",
        "x1 = np.arange(0,4,.1)\n",
        "x2 = np.arange(0,.5,.01)\n",
        "\n",
        "plt.plot(x1,gaussian(x1))\n",
        "plt.plot(x2,gaussianInverse(x2))\n",
        "plt.plot(x1,x1)\n",
        "\n",
        "plt.xlim(0, 2)\n",
        "plt.ylim(0, 2)"
      ],
      "execution_count": null,
      "outputs": [
        {
          "output_type": "stream",
          "name": "stderr",
          "text": [
            "/usr/local/lib/python3.7/dist-packages/ipykernel_launcher.py:2: RuntimeWarning: divide by zero encountered in log\n",
            "  \n",
            "/usr/local/lib/python3.7/dist-packages/ipykernel_launcher.py:2: RuntimeWarning: invalid value encountered in sqrt\n",
            "  \n"
          ]
        },
        {
          "output_type": "execute_result",
          "data": {
            "text/plain": [
              "(0.0, 2.0)"
            ]
          },
          "metadata": {},
          "execution_count": 19
        },
        {
          "output_type": "display_data",
          "data": {
            "image/png": "[encoded data removed]",
            "text/plain": [
              "<Figure size 432x288 with 1 Axes>"
            ]
          },
          "metadata": {
            "needs_background": "light"
          }
        }
      ]
    },
    {
      "cell_type": "markdown",
      "metadata": {
        "id": "P6-VWOK96X7f"
      },
      "source": [
        "I did some trickery here to make the picture look as desired.  I set the limits on the $x$ and $y$ axis to be the same and graphed the line $y=x$ to show the reflection of the inverse."
      ]
    },
    {
      "cell_type": "code",
      "metadata": {
        "id": "6-svUVAm4lim"
      },
      "source": [
        ""
      ],
      "execution_count": null,
      "outputs": []
    },
    {
      "cell_type": "markdown",
      "metadata": {
        "id": "AlV-hH4Y7Gnn"
      },
      "source": [
        "## 3 Dictionaries"
      ]
    },
    {
      "cell_type": "markdown",
      "metadata": {
        "id": "Adb_VTcw7Rr0"
      },
      "source": [
        "I am going to define a dictionary that creates a relationship between set $A$ and $B$ is an honest way."
      ]
    },
    {
      "cell_type": "code",
      "metadata": {
        "id": "X2Fp1dmX7LfM"
      },
      "source": [
        "A = ['Luke', 'Han', 'C3PO', 'Leia', 'R2D2', 'Darth Vader', 'Obi-Wan']\n",
        "B = ['Anakin', 'Obi-Wan', 'Padme', 'C3PO', 'R2D2', 'Jar-Jar']\n",
        "\n",
        "dictionary = dict({a:b for a,b in zip(A, B)})"
      ],
      "execution_count": null,
      "outputs": []
    },
    {
      "cell_type": "code",
      "metadata": {
        "id": "3tbnriA88FeV",
        "colab": {
          "base_uri": "https://localhost:8080/"
        },
        "outputId": "f2c1948b-f58a-4c68-a67d-2eeeb32904da"
      },
      "source": [
        "dictionary"
      ],
      "execution_count": null,
      "outputs": [
        {
          "output_type": "execute_result",
          "data": {
            "text/plain": [
              "{'C3PO': 'Padme',\n",
              " 'Darth Vader': 'Jar-Jar',\n",
              " 'Han': 'Obi-Wan',\n",
              " 'Leia': 'C3PO',\n",
              " 'Luke': 'Anakin',\n",
              " 'R2D2': 'R2D2'}"
            ]
          },
          "metadata": {},
          "execution_count": 22
        }
      ]
    },
    {
      "cell_type": "markdown",
      "metadata": {
        "id": "yUuWijoK8ims"
      },
      "source": [
        "This is a quick way to do it but not meaningful!  I'll do it again but pay attention to what I want."
      ]
    },
    {
      "cell_type": "code",
      "metadata": {
        "id": "XJOb2Z_D8V-e"
      },
      "source": [
        "actualDictionary = dict({'Darth Vader':'Anakin','Han':'Jar-Jar','Leia':'Padme'})\n",
        "\n",
        "#the only one that really makes sence is Anakin and Darth Vader"
      ],
      "execution_count": null,
      "outputs": []
    },
    {
      "cell_type": "code",
      "metadata": {
        "id": "m8ddmwnG9GRz"
      },
      "source": [
        "newList = [actualDictionary.get(x,x) for x in C ]"
      ],
      "execution_count": null,
      "outputs": []
    },
    {
      "cell_type": "code",
      "metadata": {
        "id": "sFMowKgy9XPj",
        "colab": {
          "base_uri": "https://localhost:8080/"
        },
        "outputId": "0f405ff3-6ee4-4e06-a0d6-fddbb219ad88"
      },
      "source": [
        "newList #no changes happened here!"
      ],
      "execution_count": null,
      "outputs": [
        {
          "output_type": "execute_result",
          "data": {
            "text/plain": [
              "['Rey', 'Finn', 'R2D2', 'C3PO', 'BB8', 'Poe']"
            ]
          },
          "metadata": {},
          "execution_count": 26
        }
      ]
    },
    {
      "cell_type": "code",
      "metadata": {
        "id": "MHgozIOO9YWS"
      },
      "source": [
        "newlist2 = [actualDictionary.get(x,x) for x in A]"
      ],
      "execution_count": null,
      "outputs": []
    },
    {
      "cell_type": "code",
      "metadata": {
        "id": "oDUGPTva9lED",
        "colab": {
          "base_uri": "https://localhost:8080/"
        },
        "outputId": "d3e4c1ac-895e-49ba-a462-32abd262234e"
      },
      "source": [
        "newlist2"
      ],
      "execution_count": null,
      "outputs": [
        {
          "output_type": "execute_result",
          "data": {
            "text/plain": [
              "['Luke', 'Jar-Jar', 'C3PO', 'Padme', 'R2D2', 'Anakin', 'Obi-Wan']"
            ]
          },
          "metadata": {},
          "execution_count": 28
        }
      ]
    },
    {
      "cell_type": "markdown",
      "metadata": {
        "id": "oSl27AmL9os0"
      },
      "source": [
        "This did make some changes to the list!  This dictonary is a function, I only change a few things and nothing into the same item (I don't think dictonaries can do that).  It is not onto so not bi-jective.  \n",
        "\n",
        "The relation is not an endo relation but it is not symmetric darth vader goes to anakin but not back.  Not reflexive since I don't transfer Han back to Han.  It is transitive because there is no counter example!  Basically I never mapped anything from the range in the domain so it is transitive. "
      ]
    },
    {
      "cell_type": "code",
      "metadata": {
        "id": "JUImtbh49mOC"
      },
      "source": [
        ""
      ],
      "execution_count": null,
      "outputs": []
    }
  ]
}